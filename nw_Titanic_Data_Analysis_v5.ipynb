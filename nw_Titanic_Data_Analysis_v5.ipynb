{
 "cells": [
  {
   "cell_type": "markdown",
   "metadata": {},
   "source": [
    "# Titanic Data Analysis\n",
    "## By Nathaniel Wharton\n",
    " \n",
    "In this exercise, data of The Titanic disaster, will be analyzed.  Specifically, passenger information and demographics  from 891 of the 2224 passengers and crew.  You can learn more about the data: [here](https://www.kaggle.com/c/titanic/data).\n",
    "\n",
    "#### The following areas/questions will be explored:\n",
    "* Data Overview (Variables, Descriptive Statistics)\n",
    "* What does the age distribution of passengers look like?\n",
    "* How many passengers embarked from each port?\n",
    "* What factors made people more likely to survive? e.g: was sex, embarkage port, or ticket class more-likely to be associated with survival?\n",
    "\n",
    "Note: it is not indicated in the source documentation how this data was obtaned, whether it was e.g: randomly selected from the total population of data, or if it is the only data available for some reason. This is a very important if we are to draw any conclusions from the data. "
   ]
  },
  {
   "cell_type": "markdown",
   "metadata": {},
   "source": [
    "# Data Overview: Variables\n",
    "\n",
    "\n",
    "|variable    | definition / key          |\n",
    "|------------|---------------------------|\n",
    "|survival    |Survival\t0 = No, 1 = Yes  |\n",
    "|pclass      |Ticket class\t1 = 1st, 2 = 2nd, 3 = 3rd |\n",
    "|sex         |Sex|\n",
    "|age |Age in years|\n",
    "|sibsp | # of siblings / spouses aboard the Titanic |\n",
    "|parch|# of parents / children aboard the Titanic |\n",
    "|ticket| Ticket number |\n",
    "|fare| Passenger fare\t|\n",
    "|cabin| Cabin number |\n",
    "|embarked | Port of Embarkation\tC = Cherbourg, Q = Queenstown, S = Southampton|\n",
    "\n",
    "## Variable Notes\n",
    "\n",
    "**pclass**: A proxy for socio-economic status (SES)\n",
    "1st = Upper\n",
    "2nd = Middle\n",
    "3rd = Lower\n",
    "\n",
    "**age**: Age is fractional if less than 1. If the age is estimated, is it in the form of xx.5\n",
    "\n",
    "**sibsp**: The dataset defines family relations in this way...\n",
    "Sibling = brother, sister, stepbrother, stepsister\n",
    "Spouse = husband, wife (mistresses and fiancés were ignored)\n",
    "\n",
    "**parch**: The dataset defines family relations in this way...\n",
    "Parent = mother, father\n",
    "Child = daughter, son, stepdaughter, stepson\n",
    "Some children travelled only with a nanny, therefore parch=0 for them.\n",
    "\n",
    "\n",
    "source: [here](https://www.kaggle.com/c/titanic/data)\n"
   ]
  },
  {
   "cell_type": "code",
   "execution_count": 1,
   "metadata": {},
   "outputs": [
    {
     "name": "stderr",
     "output_type": "stream",
     "text": [
      "/Users/n/anaconda/envs/py27/lib/python2.7/site-packages/matplotlib/font_manager.py:273: UserWarning: Matplotlib is building the font cache using fc-list. This may take a moment.\n",
      "  warnings.warn('Matplotlib is building the font cache using fc-list. This may take a moment.')\n"
     ]
    },
    {
     "name": "stdout",
     "output_type": "stream",
     "text": [
      "Populating the interactive namespace from numpy and matplotlib\n"
     ]
    }
   ],
   "source": [
    "# import all libraries needed for the analysis here\n",
    "import pandas as pd\n",
    "import numpy as np\n",
    "import matplotlib.pyplot as plt\n",
    "import seaborn as sns\n",
    "# allow for charts to show in this analysis notebook.\n",
    "%pylab inline \n",
    "\n",
    "titanic_passengers = pd.read_csv('titanic-data.csv') # passenger data is read into Pandas"
   ]
  },
  {
   "cell_type": "code",
   "execution_count": 2,
   "metadata": {},
   "outputs": [
    {
     "data": {
      "text/html": [
       "<div>\n",
       "<table border=\"1\" class=\"dataframe\">\n",
       "  <thead>\n",
       "    <tr style=\"text-align: right;\">\n",
       "      <th></th>\n",
       "      <th>PassengerId</th>\n",
       "      <th>Survived</th>\n",
       "      <th>Pclass</th>\n",
       "      <th>Name</th>\n",
       "      <th>Sex</th>\n",
       "      <th>Age</th>\n",
       "      <th>SibSp</th>\n",
       "      <th>Parch</th>\n",
       "      <th>Ticket</th>\n",
       "      <th>Fare</th>\n",
       "      <th>Cabin</th>\n",
       "      <th>Embarked</th>\n",
       "    </tr>\n",
       "  </thead>\n",
       "  <tbody>\n",
       "    <tr>\n",
       "      <th>0</th>\n",
       "      <td>1</td>\n",
       "      <td>0</td>\n",
       "      <td>3</td>\n",
       "      <td>Braund, Mr. Owen Harris</td>\n",
       "      <td>male</td>\n",
       "      <td>22.0</td>\n",
       "      <td>1</td>\n",
       "      <td>0</td>\n",
       "      <td>A/5 21171</td>\n",
       "      <td>7.2500</td>\n",
       "      <td>NaN</td>\n",
       "      <td>S</td>\n",
       "    </tr>\n",
       "    <tr>\n",
       "      <th>1</th>\n",
       "      <td>2</td>\n",
       "      <td>1</td>\n",
       "      <td>1</td>\n",
       "      <td>Cumings, Mrs. John Bradley (Florence Briggs Th...</td>\n",
       "      <td>female</td>\n",
       "      <td>38.0</td>\n",
       "      <td>1</td>\n",
       "      <td>0</td>\n",
       "      <td>PC 17599</td>\n",
       "      <td>71.2833</td>\n",
       "      <td>C85</td>\n",
       "      <td>C</td>\n",
       "    </tr>\n",
       "    <tr>\n",
       "      <th>2</th>\n",
       "      <td>3</td>\n",
       "      <td>1</td>\n",
       "      <td>3</td>\n",
       "      <td>Heikkinen, Miss. Laina</td>\n",
       "      <td>female</td>\n",
       "      <td>26.0</td>\n",
       "      <td>0</td>\n",
       "      <td>0</td>\n",
       "      <td>STON/O2. 3101282</td>\n",
       "      <td>7.9250</td>\n",
       "      <td>NaN</td>\n",
       "      <td>S</td>\n",
       "    </tr>\n",
       "    <tr>\n",
       "      <th>3</th>\n",
       "      <td>4</td>\n",
       "      <td>1</td>\n",
       "      <td>1</td>\n",
       "      <td>Futrelle, Mrs. Jacques Heath (Lily May Peel)</td>\n",
       "      <td>female</td>\n",
       "      <td>35.0</td>\n",
       "      <td>1</td>\n",
       "      <td>0</td>\n",
       "      <td>113803</td>\n",
       "      <td>53.1000</td>\n",
       "      <td>C123</td>\n",
       "      <td>S</td>\n",
       "    </tr>\n",
       "    <tr>\n",
       "      <th>4</th>\n",
       "      <td>5</td>\n",
       "      <td>0</td>\n",
       "      <td>3</td>\n",
       "      <td>Allen, Mr. William Henry</td>\n",
       "      <td>male</td>\n",
       "      <td>35.0</td>\n",
       "      <td>0</td>\n",
       "      <td>0</td>\n",
       "      <td>373450</td>\n",
       "      <td>8.0500</td>\n",
       "      <td>NaN</td>\n",
       "      <td>S</td>\n",
       "    </tr>\n",
       "  </tbody>\n",
       "</table>\n",
       "</div>"
      ],
      "text/plain": [
       "   PassengerId  Survived  Pclass  \\\n",
       "0            1         0       3   \n",
       "1            2         1       1   \n",
       "2            3         1       3   \n",
       "3            4         1       1   \n",
       "4            5         0       3   \n",
       "\n",
       "                                                Name     Sex   Age  SibSp  \\\n",
       "0                            Braund, Mr. Owen Harris    male  22.0      1   \n",
       "1  Cumings, Mrs. John Bradley (Florence Briggs Th...  female  38.0      1   \n",
       "2                             Heikkinen, Miss. Laina  female  26.0      0   \n",
       "3       Futrelle, Mrs. Jacques Heath (Lily May Peel)  female  35.0      1   \n",
       "4                           Allen, Mr. William Henry    male  35.0      0   \n",
       "\n",
       "   Parch            Ticket     Fare Cabin Embarked  \n",
       "0      0         A/5 21171   7.2500   NaN        S  \n",
       "1      0          PC 17599  71.2833   C85        C  \n",
       "2      0  STON/O2. 3101282   7.9250   NaN        S  \n",
       "3      0            113803  53.1000  C123        S  \n",
       "4      0            373450   8.0500   NaN        S  "
      ]
     },
     "execution_count": 2,
     "metadata": {},
     "output_type": "execute_result"
    }
   ],
   "source": [
    "titanic_passengers.head() # A few lines of the dataset gives an overview of the data formatting"
   ]
  },
  {
   "cell_type": "markdown",
   "metadata": {},
   "source": [
    "We can see in the table above that there is missing data for the Cabin number, even in the head."
   ]
  },
  {
   "cell_type": "markdown",
   "metadata": {},
   "source": [
    "### Some Data Wrangling"
   ]
  },
  {
   "cell_type": "code",
   "execution_count": 3,
   "metadata": {
    "collapsed": true
   },
   "outputs": [],
   "source": [
    "# Create Survival, Class, and Ports Columns for clearer plot labels\n",
    "titanic_passengers['Survival'] = titanic_passengers.Survived.map({0 : 'Died', 1 : 'Survived'})\n",
    "titanic_passengers['Class'] = titanic_passengers.Pclass.map({1 : '1st Class', 2 : '2nd Class', 3 : '3rd Class'})\n",
    "titanic_passengers['Ports'] = titanic_passengers.Embarked.map({'C' : 'Cherbourg', 'Q' : 'Queenstown', 'S' : 'Southampton'})"
   ]
  },
  {
   "cell_type": "markdown",
   "metadata": {},
   "source": [
    "## Data Overview: Descriptive Statistics"
   ]
  },
  {
   "cell_type": "code",
   "execution_count": 4,
   "metadata": {},
   "outputs": [
    {
     "data": {
      "text/plain": [
       "891"
      ]
     },
     "execution_count": 4,
     "metadata": {},
     "output_type": "execute_result"
    }
   ],
   "source": [
    "# Quick Check: How many passengers are we looking at in this dataset?\n",
    "len(titanic_passengers)"
   ]
  },
  {
   "cell_type": "code",
   "execution_count": 5,
   "metadata": {},
   "outputs": [
    {
     "name": "stderr",
     "output_type": "stream",
     "text": [
      "/Users/n/anaconda/envs/py27/lib/python2.7/site-packages/numpy/lib/function_base.py:3403: RuntimeWarning: Invalid value encountered in median\n",
      "  RuntimeWarning)\n"
     ]
    },
    {
     "data": {
      "text/html": [
       "<div>\n",
       "<table border=\"1\" class=\"dataframe\">\n",
       "  <thead>\n",
       "    <tr style=\"text-align: right;\">\n",
       "      <th></th>\n",
       "      <th>PassengerId</th>\n",
       "      <th>Survived</th>\n",
       "      <th>Pclass</th>\n",
       "      <th>Age</th>\n",
       "      <th>SibSp</th>\n",
       "      <th>Parch</th>\n",
       "      <th>Fare</th>\n",
       "    </tr>\n",
       "  </thead>\n",
       "  <tbody>\n",
       "    <tr>\n",
       "      <th>count</th>\n",
       "      <td>891.000000</td>\n",
       "      <td>891.000000</td>\n",
       "      <td>891.000000</td>\n",
       "      <td>714.000000</td>\n",
       "      <td>891.000000</td>\n",
       "      <td>891.000000</td>\n",
       "      <td>891.000000</td>\n",
       "    </tr>\n",
       "    <tr>\n",
       "      <th>mean</th>\n",
       "      <td>446.000000</td>\n",
       "      <td>0.383838</td>\n",
       "      <td>2.308642</td>\n",
       "      <td>29.699118</td>\n",
       "      <td>0.523008</td>\n",
       "      <td>0.381594</td>\n",
       "      <td>32.204208</td>\n",
       "    </tr>\n",
       "    <tr>\n",
       "      <th>std</th>\n",
       "      <td>257.353842</td>\n",
       "      <td>0.486592</td>\n",
       "      <td>0.836071</td>\n",
       "      <td>14.526497</td>\n",
       "      <td>1.102743</td>\n",
       "      <td>0.806057</td>\n",
       "      <td>49.693429</td>\n",
       "    </tr>\n",
       "    <tr>\n",
       "      <th>min</th>\n",
       "      <td>1.000000</td>\n",
       "      <td>0.000000</td>\n",
       "      <td>1.000000</td>\n",
       "      <td>0.420000</td>\n",
       "      <td>0.000000</td>\n",
       "      <td>0.000000</td>\n",
       "      <td>0.000000</td>\n",
       "    </tr>\n",
       "    <tr>\n",
       "      <th>25%</th>\n",
       "      <td>223.500000</td>\n",
       "      <td>0.000000</td>\n",
       "      <td>2.000000</td>\n",
       "      <td>NaN</td>\n",
       "      <td>0.000000</td>\n",
       "      <td>0.000000</td>\n",
       "      <td>7.910400</td>\n",
       "    </tr>\n",
       "    <tr>\n",
       "      <th>50%</th>\n",
       "      <td>446.000000</td>\n",
       "      <td>0.000000</td>\n",
       "      <td>3.000000</td>\n",
       "      <td>NaN</td>\n",
       "      <td>0.000000</td>\n",
       "      <td>0.000000</td>\n",
       "      <td>14.454200</td>\n",
       "    </tr>\n",
       "    <tr>\n",
       "      <th>75%</th>\n",
       "      <td>668.500000</td>\n",
       "      <td>1.000000</td>\n",
       "      <td>3.000000</td>\n",
       "      <td>NaN</td>\n",
       "      <td>1.000000</td>\n",
       "      <td>0.000000</td>\n",
       "      <td>31.000000</td>\n",
       "    </tr>\n",
       "    <tr>\n",
       "      <th>max</th>\n",
       "      <td>891.000000</td>\n",
       "      <td>1.000000</td>\n",
       "      <td>3.000000</td>\n",
       "      <td>80.000000</td>\n",
       "      <td>8.000000</td>\n",
       "      <td>6.000000</td>\n",
       "      <td>512.329200</td>\n",
       "    </tr>\n",
       "  </tbody>\n",
       "</table>\n",
       "</div>"
      ],
      "text/plain": [
       "       PassengerId    Survived      Pclass         Age       SibSp  \\\n",
       "count   891.000000  891.000000  891.000000  714.000000  891.000000   \n",
       "mean    446.000000    0.383838    2.308642   29.699118    0.523008   \n",
       "std     257.353842    0.486592    0.836071   14.526497    1.102743   \n",
       "min       1.000000    0.000000    1.000000    0.420000    0.000000   \n",
       "25%     223.500000    0.000000    2.000000         NaN    0.000000   \n",
       "50%     446.000000    0.000000    3.000000         NaN    0.000000   \n",
       "75%     668.500000    1.000000    3.000000         NaN    1.000000   \n",
       "max     891.000000    1.000000    3.000000   80.000000    8.000000   \n",
       "\n",
       "            Parch        Fare  \n",
       "count  891.000000  891.000000  \n",
       "mean     0.381594   32.204208  \n",
       "std      0.806057   49.693429  \n",
       "min      0.000000    0.000000  \n",
       "25%      0.000000    7.910400  \n",
       "50%      0.000000   14.454200  \n",
       "75%      0.000000   31.000000  \n",
       "max      6.000000  512.329200  "
      ]
     },
     "execution_count": 5,
     "metadata": {},
     "output_type": "execute_result"
    }
   ],
   "source": [
    "titanic_passengers.describe() # a more-detailed look - descriptive statistics"
   ]
  },
  {
   "cell_type": "markdown",
   "metadata": {},
   "source": [
    "## Notable details in the above sample statistics:\n",
    "\n",
    "* Note that Name, Sex, Ticket, Cabin, and Embarked are all missing from the above table because their datatype is String\n",
    "\n",
    "* Looking at the data tables above we see that there are 891 records for all columns, except for 'Age' which appears to be missing entries.\n",
    "\n",
    "* We see that the average survival rate of this sample of passengers is 0.384 = 38.4% - which is higher than expected.\n",
    "\n",
    "* The average ticket class is 2.3 (so between 2nd Class and 3rd Class, closer to 2nd class).\n",
    "\n",
    "* The average age of the passenger in this dataset is roughly 30 years old.  We can see the age range reported is from infants (just 0.42 years old) to a max of 80 years old) - so a wide range of ages.\n",
    "\n",
    "* The average ticket price was 32.2 (dollars(?)), but there is a wide distribution up to a max of 512 - so there is a wide range of ticket prices. A point of exploration might be to see if infants/children are charged less than adults - as this might affect the analysis. It's not clear if a ticket might represent e.g: parents and chlidren, or just one person.\n"
   ]
  },
  {
   "cell_type": "code",
   "execution_count": 6,
   "metadata": {},
   "outputs": [
    {
     "name": "stdout",
     "output_type": "stream",
     "text": [
      "<class 'pandas.core.frame.DataFrame'>\n",
      "RangeIndex: 891 entries, 0 to 890\n",
      "Data columns (total 15 columns):\n",
      "PassengerId    891 non-null int64\n",
      "Survived       891 non-null int64\n",
      "Pclass         891 non-null int64\n",
      "Name           891 non-null object\n",
      "Sex            891 non-null object\n",
      "Age            714 non-null float64\n",
      "SibSp          891 non-null int64\n",
      "Parch          891 non-null int64\n",
      "Ticket         891 non-null object\n",
      "Fare           891 non-null float64\n",
      "Cabin          204 non-null object\n",
      "Embarked       889 non-null object\n",
      "Survival       891 non-null object\n",
      "Class          891 non-null object\n",
      "Ports          889 non-null object\n",
      "dtypes: float64(2), int64(5), object(8)\n",
      "memory usage: 104.5+ KB\n"
     ]
    }
   ],
   "source": [
    "titanic_passengers.info() # get basic information on the Pandas DataFrame"
   ]
  },
  {
   "cell_type": "code",
   "execution_count": 7,
   "metadata": {},
   "outputs": [
    {
     "name": "stdout",
     "output_type": "stream",
     "text": [
      "mean_survival_rate_of_passengers: 0.383838383838\n"
     ]
    }
   ],
   "source": [
    "mean_survival_rate_of_passengers = titanic_passengers['Survived'].mean()\n",
    "print \"mean_survival_rate_of_passengers: {}\".format(mean_survival_rate_of_passengers)"
   ]
  },
  {
   "cell_type": "markdown",
   "metadata": {},
   "source": [
    "### Notable in the above data findings:\n",
    "\n",
    "* The mean survival rate of a passenger is listed above (roughly **38%**)\n",
    "* We see again that Age is missing for (891-714) 177 passengers. \n",
    "* We see that Cabin is missing for (891 - 204) 687 passengers(!) - thus this data is not very useful. It will be ignored.\n",
    "* We see that Embarked is missing for 2 passengers."
   ]
  },
  {
   "cell_type": "code",
   "execution_count": 8,
   "metadata": {
    "collapsed": true
   },
   "outputs": [],
   "source": [
    "# data wrangling: Cabin will be dropped since it won' be used:\n",
    "titanic_passengers = titanic_passengers.drop('Cabin', axis=1)"
   ]
  },
  {
   "cell_type": "markdown",
   "metadata": {},
   "source": [
    "## Correlation Overview\n",
    "We will look at correlations between variables by generating a matrix, plotting each field's correlation against all others. This can give an idea of where to focus the analysis."
   ]
  },
  {
   "cell_type": "code",
   "execution_count": 9,
   "metadata": {},
   "outputs": [
    {
     "name": "stdout",
     "output_type": "stream",
     "text": [
      "             PassengerId  Survived    Pclass       Age     SibSp     Parch  \\\n",
      "PassengerId     1.000000 -0.005007 -0.035144  0.036847 -0.057527 -0.001652   \n",
      "Survived       -0.005007  1.000000 -0.338481 -0.077221 -0.035322  0.081629   \n",
      "Pclass         -0.035144 -0.338481  1.000000 -0.369226  0.083081  0.018443   \n",
      "Age             0.036847 -0.077221 -0.369226  1.000000 -0.308247 -0.189119   \n",
      "SibSp          -0.057527 -0.035322  0.083081 -0.308247  1.000000  0.414838   \n",
      "Parch          -0.001652  0.081629  0.018443 -0.189119  0.414838  1.000000   \n",
      "Fare            0.012658  0.257307 -0.549500  0.096067  0.159651  0.216225   \n",
      "\n",
      "                 Fare  \n",
      "PassengerId  0.012658  \n",
      "Survived     0.257307  \n",
      "Pclass      -0.549500  \n",
      "Age          0.096067  \n",
      "SibSp        0.159651  \n",
      "Parch        0.216225  \n",
      "Fare         1.000000  \n"
     ]
    },
    {
     "data": {
      "image/png": "[encoded data removed]",
      "text/plain": [
       "<matplotlib.figure.Figure at 0x10f59bb50>"
      ]
     },
     "metadata": {},
     "output_type": "display_data"
    }
   ],
   "source": [
    "variable_correlations = titanic_passengers.corr(method='pearson')\n",
    "print variable_correlations;\n",
    "sns.heatmap(variable_correlations, square=True);\n",
    "plt.suptitle(\"Correlation Matrix of Variables\");\n"
   ]
  },
  {
   "cell_type": "markdown",
   "metadata": {},
   "source": [
    "Briefly, we see there is a negative correlation between survival and ticket class (**r=-0.34**), thus a higher ticket class (a lower number) is correlated with higher survival. We will be sure to look at this.  We can see that Fare and Ticket Class are negatively correlated (**r=-0.54**), but this is unsurprising. We can see other variables such as Age has some degree of correlation that we can explore."
   ]
  },
  {
   "cell_type": "markdown",
   "metadata": {},
   "source": [
    "## Exploration: Passengers by Age:\n",
    "What does the age distribution of passengers look like? Here is just an exploration of the data"
   ]
  },
  {
   "cell_type": "code",
   "execution_count": 10,
   "metadata": {},
   "outputs": [
    {
     "data": {
      "image/png": "[encoded data removed]",
      "text/plain": [
       "<matplotlib.figure.Figure at 0x10f753cd0>"
      ]
     },
     "metadata": {},
     "output_type": "display_data"
    }
   ],
   "source": [
    "titanic_passengers['Age'].hist(bins=20);\n",
    "plt.suptitle(\"Histogram: Age of Titanic Passengers in Sample Data\");\n",
    "plt.ylabel('Number of Passengers');\n",
    "plt.xlabel('Age in Years');"
   ]
  },
  {
   "cell_type": "markdown",
   "metadata": {},
   "source": [
    "We can see most people were around their 20s and 30s onboard. There were a bunch of infants (5 or less, and someone as old as 80)."
   ]
  },
  {
   "cell_type": "markdown",
   "metadata": {},
   "source": [
    "## Let's explore/Analyze: How many passengers embarked from each port?"
   ]
  },
  {
   "cell_type": "code",
   "execution_count": 11,
   "metadata": {},
   "outputs": [
    {
     "name": "stdout",
     "output_type": "stream",
     "text": [
      "Ports\n",
      "Cherbourg      168\n",
      "Queenstown      77\n",
      "Southampton    644\n",
      "Name: PassengerId, dtype: int64\n"
     ]
    },
    {
     "data": {
      "image/png": "[encoded data removed]",
      "text/plain": [
       "<matplotlib.figure.Figure at 0x10f586a50>"
      ]
     },
     "metadata": {},
     "output_type": "display_data"
    }
   ],
   "source": [
    "passengers_by_port = titanic_passengers.groupby('Ports')['PassengerId'].count()\n",
    "print passengers_by_port\n",
    "\n",
    "# plot of the passenger counts for each embarkment port\n",
    "ax = passengers_by_port.plot(kind='bar', title=\"Passengers per Embarkation Port\");\n",
    "ax.set(xlabel=\"Embarkation Port\", ylabel=\"Total Number of Passengers\");"
   ]
  },
  {
   "cell_type": "markdown",
   "metadata": {},
   "source": [
    "The majority of passengers in our sample came from **Southhampton** (644), fewer came from **Cherbourg** (168), and just 77 came from **Queenstown**.\n",
    "\n",
    "We see again the small issue in data quality here, as well - that the sum of the ports 168+77+644 = 889 (instead of 891, that 2 embarkation ports are missing in the data. We will just leave out the missing data points."
   ]
  },
  {
   "cell_type": "markdown",
   "metadata": {},
   "source": [
    "#### Let's break that into percentages for clarity"
   ]
  },
  {
   "cell_type": "code",
   "execution_count": 12,
   "metadata": {},
   "outputs": [
    {
     "name": "stdout",
     "output_type": "stream",
     "text": [
      "Total passengers w/embarked port: 889\n",
      "Ports\n",
      "Cherbourg      0.188976\n",
      "Queenstown     0.086614\n",
      "Southampton    0.724409\n",
      "Name: PassengerId, dtype: float64\n"
     ]
    },
    {
     "data": {
      "image/png": "[encoded data removed]",
      "text/plain": [
       "<matplotlib.figure.Figure at 0x10f6821d0>"
      ]
     },
     "metadata": {},
     "output_type": "display_data"
    }
   ],
   "source": [
    "# we take sum of the passengers with an embarkation port (note: we see there are 889, not 891)\n",
    "total_passengers_embarked = passengers_by_port.sum()\n",
    "print \"Total passengers w/embarked port: {}\".format(total_passengers_embarked)\n",
    "\n",
    "# We take the count of passengers by port and divide by the sum of all passengers with an embarkation port\n",
    "pct_passengers_by_port = passengers_by_port / total_passengers_embarked\n",
    "print pct_passengers_by_port\n",
    "ax = pct_passengers_by_port.plot(kind=\"pie\", title=\"% of Passengers per Embarkation Port\");\n",
    "ax.set(ylabel=\"Embarkation Port\");"
   ]
  },
  {
   "cell_type": "markdown",
   "metadata": {},
   "source": [
    "We see that the majority, **~72%** of passengers, came from Southampton, **~19%** came from Queenstown, and **~7%** came form Cherbourg. Also note that 2 passengers weren't counted in these percentages becuase their embarkation port wasn't specified."
   ]
  },
  {
   "cell_type": "markdown",
   "metadata": {},
   "source": [
    "## Let's Explore / Analyze: How was survival affected by the passenger's sex?"
   ]
  },
  {
   "cell_type": "code",
   "execution_count": 13,
   "metadata": {},
   "outputs": [
    {
     "name": "stdout",
     "output_type": "stream",
     "text": [
      "Sex\n",
      "female    314\n",
      "male      577\n",
      "Name: PassengerId, dtype: int64\n"
     ]
    },
    {
     "data": {
      "image/png": "[encoded data removed]",
      "text/plain": [
       "<matplotlib.figure.Figure at 0x10f611dd0>"
      ]
     },
     "metadata": {},
     "output_type": "display_data"
    }
   ],
   "source": [
    "# let's first see how many women/men are in our sample?\n",
    "passengers_by_sex = titanic_passengers.groupby('Sex')['PassengerId'].count()\n",
    "print passengers_by_sex\n",
    "ax = passengers_by_sex.plot(kind='bar', title=\"Passengers by Sex\");\n",
    "ax.set(xlabel=\"Sex\",ylabel=\"Total Number of Passengers\");"
   ]
  },
  {
   "cell_type": "markdown",
   "metadata": {},
   "source": [
    "Oddly, most passengers in our sample data are male! Let's look at the percentages:"
   ]
  },
  {
   "cell_type": "code",
   "execution_count": 14,
   "metadata": {},
   "outputs": [
    {
     "name": "stdout",
     "output_type": "stream",
     "text": [
      "Total passengers w/sex: 891\n",
      "Sex\n",
      "female    0.352413\n",
      "male      0.647587\n",
      "Name: PassengerId, dtype: float64\n"
     ]
    },
    {
     "data": {
      "image/png": "[encoded data removed]",
      "text/plain": [
       "<matplotlib.figure.Figure at 0x1124190d0>"
      ]
     },
     "metadata": {},
     "output_type": "display_data"
    }
   ],
   "source": [
    "# add up the passengers for the denominator:\n",
    "sum_passengers_by_sex = passengers_by_sex.sum(axis=0) \n",
    "print \"Total passengers w/sex: {}\".format(sum_passengers_by_sex) \n",
    "pct_passengers_by_sex = passengers_by_sex / sum_passengers_by_sex\n",
    "print pct_passengers_by_sex\n",
    "ax = pct_passengers_by_sex.plot(kind='pie', title=\"% of Passengers By Sex\");\n",
    "ax.set(xlabel=\"\",ylabel=\"\");"
   ]
  },
  {
   "cell_type": "markdown",
   "metadata": {},
   "source": [
    "We see that 35% of the passengers in our dataset are female and 65% are male.\n",
    "\n",
    "#### Let's see the survival statics by sex:"
   ]
  },
  {
   "cell_type": "code",
   "execution_count": 15,
   "metadata": {},
   "outputs": [
    {
     "name": "stdout",
     "output_type": "stream",
     "text": [
      "Survival  Sex   \n",
      "Died      female     81\n",
      "          male      468\n",
      "Survived  female    233\n",
      "          male      109\n",
      "Name: PassengerId, dtype: int64\n"
     ]
    }
   ],
   "source": [
    "passenger_survival_by_sex = titanic_passengers.groupby(['Survival','Sex'])['PassengerId'].count()\n",
    "print passenger_survival_by_sex"
   ]
  },
  {
   "cell_type": "code",
   "execution_count": 16,
   "metadata": {},
   "outputs": [
    {
     "name": "stdout",
     "output_type": "stream",
     "text": [
      "Survival  Died  Survived\n",
      "Sex                     \n",
      "female      81       233\n",
      "male       468       109\n"
     ]
    },
    {
     "data": {
      "image/png": "[encoded data removed]",
      "text/plain": [
       "<matplotlib.figure.Figure at 0x1122702d0>"
      ]
     },
     "metadata": {},
     "output_type": "display_data"
    }
   ],
   "source": [
    "# by unstacking, we pivot stacked rows to columns generating a plotable table with the same counts of survival as above\n",
    "passenger_survival_by_sex_unstacked_0 = passenger_survival_by_sex.unstack(level=0)\n",
    "print passenger_survival_by_sex_unstacked_0\n",
    "ax = passenger_survival_by_sex_unstacked_0.plot(kind=\"bar\");\n",
    "ax.set(xlabel=\"Sex\",ylabel=\"Number of Passengers\");"
   ]
  },
  {
   "cell_type": "markdown",
   "metadata": {},
   "source": [
    "We see that females were more-likely to have survived than males. Of the female population, **233** survived and **81** died.  Of males, **109** survived and **468** died."
   ]
  },
  {
   "cell_type": "markdown",
   "metadata": {},
   "source": [
    "let's look at the groups by percentage"
   ]
  },
  {
   "cell_type": "code",
   "execution_count": 17,
   "metadata": {},
   "outputs": [
    {
     "name": "stdout",
     "output_type": "stream",
     "text": [
      "Survival\n",
      "Died        549\n",
      "Survived    342\n",
      "dtype: int64\n",
      "Survival      Died  Survived\n",
      "Sex                         \n",
      "female    0.147541  0.681287\n",
      "male      0.852459  0.318713\n"
     ]
    },
    {
     "data": {
      "image/png": "[encoded data removed]",
      "text/plain": [
       "<matplotlib.figure.Figure at 0x10f6a1850>"
      ]
     },
     "metadata": {},
     "output_type": "display_data"
    }
   ],
   "source": [
    "# we want to see our data compared to the total of members of the sex\n",
    "total_of_each_sex = passenger_survival_by_sex_unstacked_0.sum(axis=0)\n",
    "print total_of_each_sex\n",
    "pct_passenger_survival_by_sex = passenger_survival_by_sex_unstacked_0/ total_of_each_sex\n",
    "print pct_passenger_survival_by_sex\n",
    "pct_passenger_survival_by_sex.plot(kind='pie', subplots=True, title=\"Breakdown of Survival by Sex\", legend=False);\n"
   ]
  },
  {
   "cell_type": "markdown",
   "metadata": {},
   "source": [
    "Of those who died, **85%** were male and **14%** were female. Of those who survived, **68%** were female and **31%** were male."
   ]
  },
  {
   "cell_type": "markdown",
   "metadata": {},
   "source": [
    "## How Was Survival Affected by Embarkation Port?\n",
    "We looked at embarkation port data earlier. Let's now compare that with survival data."
   ]
  },
  {
   "cell_type": "code",
   "execution_count": 18,
   "metadata": {},
   "outputs": [
    {
     "name": "stdout",
     "output_type": "stream",
     "text": [
      "Survival  Ports      \n",
      "Died      Cherbourg       75\n",
      "          Queenstown      47\n",
      "          Southampton    427\n",
      "Survived  Cherbourg       93\n",
      "          Queenstown      30\n",
      "          Southampton    217\n",
      "Name: PassengerId, dtype: int64\n",
      "Survival     Died  Survived\n",
      "Ports                      \n",
      "Cherbourg      75        93\n",
      "Queenstown     47        30\n",
      "Southampton   427       217\n"
     ]
    },
    {
     "data": {
      "image/png": "[encoded data removed]",
      "text/plain": [
       "<matplotlib.figure.Figure at 0x10f5d7210>"
      ]
     },
     "metadata": {},
     "output_type": "display_data"
    }
   ],
   "source": [
    "passengers_survival_by_port = titanic_passengers.groupby(['Survival','Ports'])['PassengerId'].count()\n",
    "print passengers_survival_by_port\n",
    "\n",
    "# lets pivot the port to a column..\n",
    "passengers_survival_by_port_unstacked_0 = passengers_survival_by_port.unstack(level=0)\n",
    "print passengers_survival_by_port_unstacked_0\n",
    "passengers_survival_by_port_unstacked_0.plot(kind='pie', subplots=True, \n",
    "                                             title=\"Breakdown of Survival by Embarkation Port\", legend=False);"
   ]
  },
  {
   "cell_type": "markdown",
   "metadata": {},
   "source": [
    "We see above that passengers from Cherbourg appear to be associated with a higher level of survivorship than from Queenstown or Southampton.  "
   ]
  },
  {
   "cell_type": "code",
   "execution_count": 19,
   "metadata": {},
   "outputs": [
    {
     "name": "stdout",
     "output_type": "stream",
     "text": [
      "Survival         Died  Survived\n",
      "Ports                          \n",
      "Cherbourg    0.136612  0.273529\n",
      "Queenstown   0.085610  0.088235\n",
      "Southampton  0.777778  0.638235\n"
     ]
    }
   ],
   "source": [
    "# let's look at percentages:\n",
    "pct_passengers_survival_by_port_unstacked_0 = passengers_survival_by_port_unstacked_0 / passengers_survival_by_port_unstacked_0.sum(axis=0)\n",
    "print pct_passengers_survival_by_port_unstacked_0"
   ]
  },
  {
   "cell_type": "markdown",
   "metadata": {},
   "source": [
    "In fact, while **14%** of the deceased passengers were from Cherbourg, **27%** of the survivors were from there. Perhaps they had more-time on board to get familiar with where the lifeboats were located on the ship, or some other factor. Note again that 2 passengers weren't counted in the percentages because they lacked an embarkation port."
   ]
  },
  {
   "cell_type": "markdown",
   "metadata": {},
   "source": [
    "## How was Survival affected by Ticket Class?"
   ]
  },
  {
   "cell_type": "code",
   "execution_count": 20,
   "metadata": {},
   "outputs": [
    {
     "data": {
      "text/plain": [
       "Survival  Class    \n",
       "Died      1st Class     80\n",
       "          2nd Class     97\n",
       "          3rd Class    372\n",
       "Survived  1st Class    136\n",
       "          2nd Class     87\n",
       "          3rd Class    119\n",
       "Name: PassengerId, dtype: int64"
      ]
     },
     "execution_count": 20,
     "metadata": {},
     "output_type": "execute_result"
    }
   ],
   "source": [
    "# We can see counts of those who survived and who didn't broken out by ticket class below:\n",
    "passengers_survival_by_class = titanic_passengers.groupby(['Survival','Class'])['PassengerId'].count()\n",
    "passengers_survival_by_class"
   ]
  },
  {
   "cell_type": "code",
   "execution_count": 21,
   "metadata": {},
   "outputs": [
    {
     "name": "stdout",
     "output_type": "stream",
     "text": [
      "Survival   Died  Survived\n",
      "Class                    \n",
      "1st Class    80       136\n",
      "2nd Class    97        87\n",
      "3rd Class   372       119\n"
     ]
    },
    {
     "data": {
      "image/png": "[encoded data removed]",
      "text/plain": [
       "<matplotlib.figure.Figure at 0x11255b450>"
      ]
     },
     "metadata": {},
     "output_type": "display_data"
    }
   ],
   "source": [
    "# by unstacking, we pivot stacked rows to columns generating a plotable table with the same counts of survival as above\n",
    "passengers_by_class_unstacked_0 = passengers_survival_by_class.unstack(level=0)\n",
    "print passengers_by_class_unstacked_0\n",
    "ax = passengers_by_class_unstacked_0.plot(kind=\"bar\", title=\"Survival by Ticket Class\");\n",
    "ax.set(xlabel=\"Ticket Class\", ylabel=\"Total Passengers\");"
   ]
  },
  {
   "cell_type": "markdown",
   "metadata": {},
   "source": [
    "We can clearly many more third-class passengers in our data sample, died (372) than survived (119), and by far more than the other classes.\n",
    "For second-class passengers, more died (97) than survived (87), but it was close.\n",
    "For first-class passengers, more survived (136) than died (80).\n",
    "\n",
    "In our sample data, it's clear that lower ticket class is associated with higher mortality rates."
   ]
  },
  {
   "cell_type": "markdown",
   "metadata": {},
   "source": [
    "### Let's now try to get a sense of percentage differences between the class/survival groups:\n",
    "We'll start with calculating/displaying the total count of survivors for each alass"
   ]
  },
  {
   "cell_type": "code",
   "execution_count": 22,
   "metadata": {},
   "outputs": [
    {
     "name": "stdout",
     "output_type": "stream",
     "text": [
      "Class\n",
      "1st Class    216\n",
      "2nd Class    184\n",
      "3rd Class    491\n",
      "dtype: int64\n"
     ]
    },
    {
     "data": {
      "image/png": "[encoded data removed]",
      "text/plain": [
       "<matplotlib.figure.Figure at 0x10f604cd0>"
      ]
     },
     "metadata": {},
     "output_type": "display_data"
    }
   ],
   "source": [
    "# The total sums of passengers by class for each column is computed (which we'll use for the percentage denominator)\n",
    "columnwise_sum_passengers_by_class = passengers_by_class_unstacked_0.sum(axis=1)\n",
    "print columnwise_sum_passengers_by_class\n",
    "ax = columnwise_sum_passengers_by_class.plot(kind=\"bar\", title=\"Passengers by Ticket Class\");\n",
    "ax.set(xlabel=\"Ticket Class\",ylabel=\"Total Passengers\");"
   ]
  },
  {
   "cell_type": "markdown",
   "metadata": {},
   "source": [
    "There are more 3rd class tickets (491) then 1st or 2nd class. There are relatively similar numbers of first-class tickets (216) and second-class tickets (184)."
   ]
  },
  {
   "cell_type": "code",
   "execution_count": 23,
   "metadata": {},
   "outputs": [
    {
     "data": {
      "text/html": [
       "<div>\n",
       "<table border=\"1\" class=\"dataframe\">\n",
       "  <thead>\n",
       "    <tr style=\"text-align: right;\">\n",
       "      <th>Class</th>\n",
       "      <th>1st Class</th>\n",
       "      <th>2nd Class</th>\n",
       "      <th>3rd Class</th>\n",
       "    </tr>\n",
       "    <tr>\n",
       "      <th>Survival</th>\n",
       "      <th></th>\n",
       "      <th></th>\n",
       "      <th></th>\n",
       "    </tr>\n",
       "  </thead>\n",
       "  <tbody>\n",
       "    <tr>\n",
       "      <th>Died</th>\n",
       "      <td>80</td>\n",
       "      <td>97</td>\n",
       "      <td>372</td>\n",
       "    </tr>\n",
       "    <tr>\n",
       "      <th>Survived</th>\n",
       "      <td>136</td>\n",
       "      <td>87</td>\n",
       "      <td>119</td>\n",
       "    </tr>\n",
       "  </tbody>\n",
       "</table>\n",
       "</div>"
      ],
      "text/plain": [
       "Class     1st Class  2nd Class  3rd Class\n",
       "Survival                                 \n",
       "Died             80         97        372\n",
       "Survived        136         87        119"
      ]
     },
     "execution_count": 23,
     "metadata": {},
     "output_type": "execute_result"
    }
   ],
   "source": [
    "# by unstacking, we, this time, use class for columns and survival for rows\n",
    "passengers_survival_by_class_unstacked_1 = passengers_survival_by_class.unstack(level=1)\n",
    "passengers_survival_by_class_unstacked_1"
   ]
  },
  {
   "cell_type": "code",
   "execution_count": 24,
   "metadata": {},
   "outputs": [
    {
     "data": {
      "text/html": [
       "<div>\n",
       "<table border=\"1\" class=\"dataframe\">\n",
       "  <thead>\n",
       "    <tr style=\"text-align: right;\">\n",
       "      <th>Class</th>\n",
       "      <th>1st Class</th>\n",
       "      <th>2nd Class</th>\n",
       "      <th>3rd Class</th>\n",
       "    </tr>\n",
       "    <tr>\n",
       "      <th>Survival</th>\n",
       "      <th></th>\n",
       "      <th></th>\n",
       "      <th></th>\n",
       "    </tr>\n",
       "  </thead>\n",
       "  <tbody>\n",
       "    <tr>\n",
       "      <th>Died</th>\n",
       "      <td>0.37037</td>\n",
       "      <td>0.527174</td>\n",
       "      <td>0.757637</td>\n",
       "    </tr>\n",
       "    <tr>\n",
       "      <th>Survived</th>\n",
       "      <td>0.62963</td>\n",
       "      <td>0.472826</td>\n",
       "      <td>0.242363</td>\n",
       "    </tr>\n",
       "  </tbody>\n",
       "</table>\n",
       "</div>"
      ],
      "text/plain": [
       "Class     1st Class  2nd Class  3rd Class\n",
       "Survival                                 \n",
       "Died        0.37037   0.527174   0.757637\n",
       "Survived    0.62963   0.472826   0.242363"
      ]
     },
     "execution_count": 24,
     "metadata": {},
     "output_type": "execute_result"
    }
   ],
   "source": [
    "# We calculate percentages of survival by taking the count of survivors over the sum of passengers\n",
    "pct_passenger_survival_by_class = passengers_survival_by_class_unstacked_1 / columnwise_sum_passengers_by_class\n",
    "pct_passenger_survival_by_class"
   ]
  },
  {
   "cell_type": "code",
   "execution_count": 25,
   "metadata": {},
   "outputs": [
    {
     "data": {
      "image/png": "[encoded data removed]",
      "text/plain": [
       "<matplotlib.figure.Figure at 0x1128762d0>"
      ]
     },
     "metadata": {},
     "output_type": "display_data"
    }
   ],
   "source": [
    "pct_passenger_survival_by_class.plot(kind='pie', subplots=True, title=\"Breakdown of Survival by Class\", legend=False);"
   ]
  },
  {
   "cell_type": "markdown",
   "metadata": {},
   "source": [
    "In the table above we see roughly **63%** of 1st class passengers survived, while just **47%** of 2nd class passengers, and an incredible, comparatively small **24%** of 3rd-class passengers survived."
   ]
  },
  {
   "cell_type": "markdown",
   "metadata": {},
   "source": [
    "# Conclusions\n",
    "This dataset is a sample of data from passengers aboard the Titanic. It's not clear where the data came from or how it was selected, so it may not be a random sample of passengers, and thus conclusions drawn from it cannot be certain. If we had the full set of data on all passengers, it would be very interesting to re-run this analysis. There are also some data missing e.g: cabin name that would make this a more-complete analysis, 2 missing embarkation ports, multiple missing Age records, etc that could improve the analysis.  \n",
    "\n",
    "That being said, we have explored and answered some questions about the data:\n",
    "\n",
    "* There are many infants in the sample, and the mean age of the passengers is 29.7, younger than anticipated.\n",
    "* Most passengers embarked from Southhampton.\n",
    "* Just 35% of the passengers in the sample were female. Females in the sample were more-likely to have survived than males, perhaps showing that men gave up their seats in lifeboarts to women.  15% of those who died were female, while 68% of those who survived were female, an important finding.\n",
    "* Passengers from Cherbourg in the dataset enjoyed a higher level of survivorship than from Queenstown or Southampton. while 14% of the deceased passengers were from Cherbourg, 27% of the survivors were from there\n",
    "* We can clearly many more third-class passengers in our data sample, died (372) than survived (119), and by far more than the other classes. For second-class passengers, more died (97) than survived (87), but it was close. For first-class passengers, more survived (136) than died (80). In our sample data, it's clear that lower ticket class is associated with higher mortality rates.  Roughly 63% of 1st class passengers in our dataset survived, while just 47% of 2nd class passengers, and an incredible, comparatively small 24% of 3rd-class passengers survived.\n",
    "* There is a negative correlation between survival and ticket class (**r=-0.34**), thus a higher ticket class (a lower number) is correlated with higher survival. "
   ]
  },
  {
   "cell_type": "markdown",
   "metadata": {},
   "source": [
    "Source for bargraph plotting: [https://pandas.pydata.org/pandas-docs/stable/visualization.html](https://pandas.pydata.org/pandas-docs/stable/visualization.html)\n",
    "\n",
    "Source for titles: [https://stackoverflow.com/questions/19614400/add-title-to-collection-of-pandas-hist-plots/37907287](https://stackoverflow.com/questions/19614400/add-title-to-collection-of-pandas-hist-plots/37907287)\n",
    "\n",
    "Source for x/y axes: [https://stackoverflow.com/questions/21487329/add-x-and-y-labels-to-a-pandas-plot](https://stackoverflow.com/questions/21487329/add-x-and-y-labels-to-a-pandas-plot)\n",
    "\n",
    "Source for Pearson's Correlation: [https://pandas.pydata.org/pandas-docs/stable/generated/pandas.DataFrame.corr.html](https://pandas.pydata.org/pandas-docs/stable/generated/pandas.DataFrame.corr.html)\n",
    "\n",
    "A Udacity Teaching Assistant was consulted regarding unshift()"
   ]
  },
  {
   "cell_type": "markdown",
   "metadata": {},
   "source": []
  }
 ],
 "metadata": {
  "anaconda-cloud": {},
  "kernelspec": {
   "display_name": "Python (2.7)",
   "language": "python",
   "name": "py27"
  },
  "language_info": {
   "codemirror_mode": {
    "name": "ipython",
    "version": 2
   },
   "file_extension": ".py",
   "mimetype": "text/x-python",
   "name": "python",
   "nbconvert_exporter": "python",
   "pygments_lexer": "ipython2",
   "version": "2.7.13"
  }
 },
 "nbformat": 4,
 "nbformat_minor": 2
}
